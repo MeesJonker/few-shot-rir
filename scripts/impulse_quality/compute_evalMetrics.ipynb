{
 "cells": [
  {
   "cell_type": "code",
   "execution_count": null,
   "id": "rural-gambling",
   "metadata": {},
   "outputs": [],
   "source": [
    "import numpy as np\n",
    "import os\n",
    "import pickle"
   ]
  },
  {
   "cell_type": "code",
   "execution_count": null,
   "id": "secondary-nicholas",
   "metadata": {},
   "outputs": [],
   "source": [
    "TARGET_METRICS = [\"*\"] # \"stft_l1_distance\", \"diff_rt_startFrom60dB\", \"diff_drr_3ms\"\n",
    "\n",
    "EVAL_ROOT_DIR = \"../../runs_eval/\"\n",
    "assert os.path.isdir(EVAL_ROOT_DIR)\n",
    "\n",
    "EVAL_DIRNAME = \"fs_rir\" \n",
    "\n",
    "EVAL_METRICS_FILENAME = \"seen_eval_798datapoints_metrics.pkl\" # seen_eval_798datapoints_metrics.pkl, unseen_eval_364datapoints_metrics.pkl\n",
    "\n",
    "EVAL_METRICS_FILE_PATH = os.path.join(EVAL_ROOT_DIR, EVAL_DIRNAME, EVAL_METRICS_FILENAME)\n",
    "assert os.path.exists(EVAL_METRICS_FILE_PATH)"
   ]
  },
  {
   "cell_type": "code",
   "execution_count": null,
   "id": "ordered-curve",
   "metadata": {},
   "outputs": [],
   "source": [
    "with open(EVAL_METRICS_FILE_PATH, \"rb\") as fi:\n",
    "    eval_metrics_dct = pickle.load(fi)"
   ]
  },
  {
   "cell_type": "code",
   "execution_count": null,
   "id": "criminal-scoop",
   "metadata": {},
   "outputs": [],
   "source": [
    "if TARGET_METRICS == [\"*\"]:\n",
    "    for target_metric in eval_metrics_dct:\n",
    "        print(f\"{target_metric} median: {np.median(eval_metrics_dct[target_metric])},\"+\n",
    "              f\" mean: {np.mean(eval_metrics_dct[target_metric])},\"+\n",
    "              f\" std: {np.std(eval_metrics_dct[target_metric])}\")\n",
    "else:\n",
    "    print(TARGET_METRICS)\n",
    "    print(\"-\" * 80)\n",
    "    for target_metric in TARGET_METRICS:\n",
    "        assert target_metric in eval_metrics_dct\n",
    "        print(f\"{target_metric} median: {np.median(eval_metrics_dct[taget_metric])},\"+\n",
    "              f\" mean: {np.mean(eval_metrics_dct[taget_metric])},\"+\n",
    "              f\" std: {np.std(eval_metrics_dct[taget_metric])}\")"
   ]
  }
 ],
 "metadata": {
  "kernelspec": {
   "display_name": "Python 3",
   "language": "python",
   "name": "python3"
  },
  "language_info": {
   "codemirror_mode": {
    "name": "ipython",
    "version": 3
   },
   "file_extension": ".py",
   "mimetype": "text/x-python",
   "name": "python",
   "nbconvert_exporter": "python",
   "pygments_lexer": "ipython3",
   "version": "3.6.13"
  }
 },
 "nbformat": 4,
 "nbformat_minor": 5
}
