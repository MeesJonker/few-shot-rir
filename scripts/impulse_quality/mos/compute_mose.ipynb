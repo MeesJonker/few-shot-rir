{
 "cells": [
  {
   "cell_type": "code",
   "execution_count": null,
   "id": "incredible-stable",
   "metadata": {},
   "outputs": [],
   "source": [
    "import numpy as np\n",
    "import os\n",
    "import pickle"
   ]
  },
  {
   "cell_type": "code",
   "execution_count": null,
   "id": "collect-northeast",
   "metadata": {},
   "outputs": [],
   "source": [
    "EVAL_TYPE = \"seen_eval\" # seen_eval, unseen_eval\n",
    "\n",
    "RUN_DIR = \"../../../runs_eval/fs_rir\"\n",
    "\n",
    "PRED_MOS_FILENAME = f\"{EVAL_TYPE}_mos.pkl\"\n",
    "GT_MOS_FILENAME = f\"gt_{EVAL_TYPE}_mos.pkl\"\n",
    "\n",
    "PRED_MOS_FILE_PATH = os.path.join(RUN_DIR, PRED_MOS_FILENAME)\n",
    "assert os.path.isfile(PRED_MOS_FILE_PATH)\n",
    "\n",
    "GT_MOS_FILE_PATH = os.path.join(RUN_DIR, GT_MOS_FILENAME)\n",
    "assert os.path.isfile(GT_MOS_FILE_PATH)"
   ]
  },
  {
   "cell_type": "code",
   "execution_count": null,
   "id": "according-curtis",
   "metadata": {},
   "outputs": [],
   "source": [
    "with open(PRED_MOS_FILE_PATH, \"rb\") as fi:\n",
    "    dct_pred_mos = pickle.load(fi)\n",
    "\n",
    "with open(GT_MOS_FILE_PATH, \"rb\") as fi:\n",
    "    dct_gt_mos = pickle.load(fi)"
   ]
  },
  {
   "cell_type": "code",
   "execution_count": null,
   "id": "massive-armenia",
   "metadata": {},
   "outputs": [],
   "source": [
    "lst_pred_mose = []\n",
    "for sceneNRIRName in dct_gt_mos:\n",
    "    assert sceneNRIRName in dct_pred_mos\n",
    "    lst_pred_mose.append(abs(dct_pred_mos[sceneNRIRName] - dct_gt_mos[sceneNRIRName]))"
   ]
  },
  {
   "cell_type": "code",
   "execution_count": null,
   "id": "liquid-lodge",
   "metadata": {},
   "outputs": [],
   "source": [
    "print(\"mose: meadian, mean, std -- \",  np.median(lst_pred_mose), np.mean(lst_pred_mose), np.std(lst_pred_mose))"
   ]
  }
 ],
 "metadata": {
  "kernelspec": {
   "display_name": "Python 3",
   "language": "python",
   "name": "python3"
  },
  "language_info": {
   "codemirror_mode": {
    "name": "ipython",
    "version": 3
   },
   "file_extension": ".py",
   "mimetype": "text/x-python",
   "name": "python",
   "nbconvert_exporter": "python",
   "pygments_lexer": "ipython3",
   "version": "3.6.13"
  }
 },
 "nbformat": 4,
 "nbformat_minor": 5
}
